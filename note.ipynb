{
 "cells": [
  {
   "cell_type": "code",
   "execution_count": 16,
   "outputs": [
    {
     "data": {
      "text/plain": "'<!DOCTYPE html>\\n<html lang=\"en\">\\n<head>\\n\\t<meta charset=\"UTF-8\">\\n\\t<title>Quotes to Scrape</title>\\n    <link rel=\"stylesheet\" href=\"/static/bootstrap.min.css\">\\n    <link rel=\"stylesheet\" href=\"/static/main.css\">\\n</head>\\n<body>\\n    <div class=\"container\">\\n        <div class=\"row header-box\">\\n            <div class=\"col-md-8\">\\n                <h1>\\n                    <a href=\"/\" style=\"text-decoration: none\">Quotes to Scrape</a>\\n                </h1>\\n            </div>\\n            <div class=\"col-md-4\">\\n                <p>\\n                \\n                    <a href=\"/login\">Login</a>\\n                \\n                </p>\\n            </div>\\n        </div>\\n    \\n\\n<div class=\"row\">\\n    <div class=\"col-md-8\">\\n\\n    <div class=\"quote\" itemscope itemtype=\"http://schema.org/CreativeWork\">\\n        <span class=\"text\" itemprop=\"text\">“The world as we have created it is a process of our thinking. It cannot be changed without changing our thinking.”</span>\\n        <span>by <small class=\"author\" itemprop=\"author\">Albert Einstein</small>\\n        <a href=\"/author/Albert-Einstein\">(about)</a>\\n        </span>\\n        <div class=\"tags\">\\n            Tags:\\n            <meta class=\"keywords\" itemprop=\"keywords\" content=\"change,deep-thoughts,thinking,world\" /    > \\n            \\n            <a class=\"tag\" href=\"/tag/change/page/1/\">change</a>\\n            \\n            <a class=\"tag\" href=\"/tag/deep-thoughts/page/1/\">deep-thoughts</a>\\n            \\n            <a class=\"tag\" href=\"/tag/thinking/page/1/\">thinking</a>\\n            \\n            <a class=\"tag\" href=\"/tag/world/page/1/\">world</a>\\n            \\n        </div>\\n    </div>\\n\\n    <div class=\"quote\" itemscope itemtype=\"http://schema.org/CreativeWork\">\\n        <span class=\"text\" itemprop=\"text\">“It is our choices, Harry, that show what we truly are, far more than our abilities.”</span>\\n        <span>by <small class=\"author\" itemprop=\"author\">J.K. Rowling</small>\\n        <a href=\"/author/J-K-Rowling\">(about)</a>\\n        </span>\\n        <div class=\"tags\">\\n            Tags:\\n            <meta class=\"keywords\" itemprop=\"keywords\" content=\"abilities,choices\" /    > \\n            \\n            <a class=\"tag\" href=\"/tag/abilities/page/1/\">abilities</a>\\n            \\n            <a class=\"tag\" href=\"/tag/choices/page/1/\">choices</a>\\n            \\n        </div>\\n    </div>\\n\\n    <div class=\"quote\" itemscope itemtype=\"http://schema.org/CreativeWork\">\\n        <span class=\"text\" itemprop=\"text\">“There are only two ways to live your life. One is as though nothing is a miracle. The other is as though everything is a miracle.”</span>\\n        <span>by <small class=\"author\" itemprop=\"author\">Albert Einstein</small>\\n        <a href=\"/author/Albert-Einstein\">(about)</a>\\n        </span>\\n        <div class=\"tags\">\\n            Tags:\\n            <meta class=\"keywords\" itemprop=\"keywords\" content=\"inspirational,life,live,miracle,miracles\" /    > \\n            \\n            <a class=\"tag\" href=\"/tag/inspirational/page/1/\">inspirational</a>\\n            \\n            <a class=\"tag\" href=\"/tag/life/page/1/\">life</a>\\n            \\n            <a class=\"tag\" href=\"/tag/live/page/1/\">live</a>\\n            \\n            <a class=\"tag\" href=\"/tag/miracle/page/1/\">miracle</a>\\n            \\n            <a class=\"tag\" href=\"/tag/miracles/page/1/\">miracles</a>\\n            \\n        </div>\\n    </div>\\n\\n    <div class=\"quote\" itemscope itemtype=\"http://schema.org/CreativeWork\">\\n        <span class=\"text\" itemprop=\"text\">“The person, be it gentleman or lady, who has not pleasure in a good novel, must be intolerably stupid.”</span>\\n        <span>by <small class=\"author\" itemprop=\"author\">Jane Austen</small>\\n        <a href=\"/author/Jane-Austen\">(about)</a>\\n        </span>\\n        <div class=\"tags\">\\n            Tags:\\n            <meta class=\"keywords\" itemprop=\"keywords\" content=\"aliteracy,books,classic,humor\" /    > \\n            \\n            <a class=\"tag\" href=\"/tag/aliteracy/page/1/\">aliteracy</a>\\n            \\n            <a class=\"tag\" href=\"/tag/books/page/1/\">books</a>\\n            \\n            <a class=\"tag\" href=\"/tag/classic/page/1/\">classic</a>\\n            \\n            <a class=\"tag\" href=\"/tag/humor/page/1/\">humor</a>\\n            \\n        </div>\\n    </div>\\n\\n    <div class=\"quote\" itemscope itemtype=\"http://schema.org/CreativeWork\">\\n        <span class=\"text\" itemprop=\"text\">“Imperfection is beauty, madness is genius and it&#39;s better to be absolutely ridiculous than absolutely boring.”</span>\\n        <span>by <small class=\"author\" itemprop=\"author\">Marilyn Monroe</small>\\n        <a href=\"/author/Marilyn-Monroe\">(about)</a>\\n        </span>\\n        <div class=\"tags\">\\n            Tags:\\n            <meta class=\"keywords\" itemprop=\"keywords\" content=\"be-yourself,inspirational\" /    > \\n            \\n            <a class=\"tag\" href=\"/tag/be-yourself/page/1/\">be-yourself</a>\\n            \\n            <a class=\"tag\" href=\"/tag/inspirational/page/1/\">inspirational</a>\\n            \\n        </div>\\n    </div>\\n\\n    <div class=\"quote\" itemscope itemtype=\"http://schema.org/CreativeWork\">\\n        <span class=\"text\" itemprop=\"text\">“Try not to become a man of success. Rather become a man of value.”</span>\\n        <span>by <small class=\"author\" itemprop=\"author\">Albert Einstein</small>\\n        <a href=\"/author/Albert-Einstein\">(about)</a>\\n        </span>\\n        <div class=\"tags\">\\n            Tags:\\n            <meta class=\"keywords\" itemprop=\"keywords\" content=\"adulthood,success,value\" /    > \\n            \\n            <a class=\"tag\" href=\"/tag/adulthood/page/1/\">adulthood</a>\\n            \\n            <a class=\"tag\" href=\"/tag/success/page/1/\">success</a>\\n            \\n            <a class=\"tag\" href=\"/tag/value/page/1/\">value</a>\\n            \\n        </div>\\n    </div>\\n\\n    <div class=\"quote\" itemscope itemtype=\"http://schema.org/CreativeWork\">\\n        <span class=\"text\" itemprop=\"text\">“It is better to be hated for what you are than to be loved for what you are not.”</span>\\n        <span>by <small class=\"author\" itemprop=\"author\">André Gide</small>\\n        <a href=\"/author/Andre-Gide\">(about)</a>\\n        </span>\\n        <div class=\"tags\">\\n            Tags:\\n            <meta class=\"keywords\" itemprop=\"keywords\" content=\"life,love\" /    > \\n            \\n            <a class=\"tag\" href=\"/tag/life/page/1/\">life</a>\\n            \\n            <a class=\"tag\" href=\"/tag/love/page/1/\">love</a>\\n            \\n        </div>\\n    </div>\\n\\n    <div class=\"quote\" itemscope itemtype=\"http://schema.org/CreativeWork\">\\n        <span class=\"text\" itemprop=\"text\">“I have not failed. I&#39;ve just found 10,000 ways that won&#39;t work.”</span>\\n        <span>by <small class=\"author\" itemprop=\"author\">Thomas A. Edison</small>\\n        <a href=\"/author/Thomas-A-Edison\">(about)</a>\\n        </span>\\n        <div class=\"tags\">\\n            Tags:\\n            <meta class=\"keywords\" itemprop=\"keywords\" content=\"edison,failure,inspirational,paraphrased\" /    > \\n            \\n            <a class=\"tag\" href=\"/tag/edison/page/1/\">edison</a>\\n            \\n            <a class=\"tag\" href=\"/tag/failure/page/1/\">failure</a>\\n            \\n            <a class=\"tag\" href=\"/tag/inspirational/page/1/\">inspirational</a>\\n            \\n            <a class=\"tag\" href=\"/tag/paraphrased/page/1/\">paraphrased</a>\\n            \\n        </div>\\n    </div>\\n\\n    <div class=\"quote\" itemscope itemtype=\"http://schema.org/CreativeWork\">\\n        <span class=\"text\" itemprop=\"text\">“A woman is like a tea bag; you never know how strong it is until it&#39;s in hot water.”</span>\\n        <span>by <small class=\"author\" itemprop=\"author\">Eleanor Roosevelt</small>\\n        <a href=\"/author/Eleanor-Roosevelt\">(about)</a>\\n        </span>\\n        <div class=\"tags\">\\n            Tags:\\n            <meta class=\"keywords\" itemprop=\"keywords\" content=\"misattributed-eleanor-roosevelt\" /    > \\n            \\n            <a class=\"tag\" href=\"/tag/misattributed-eleanor-roosevelt/page/1/\">misattributed-eleanor-roosevelt</a>\\n            \\n        </div>\\n    </div>\\n\\n    <div class=\"quote\" itemscope itemtype=\"http://schema.org/CreativeWork\">\\n        <span class=\"text\" itemprop=\"text\">“A day without sunshine is like, you know, night.”</span>\\n        <span>by <small class=\"author\" itemprop=\"author\">Steve Martin</small>\\n        <a href=\"/author/Steve-Martin\">(about)</a>\\n        </span>\\n        <div class=\"tags\">\\n            Tags:\\n            <meta class=\"keywords\" itemprop=\"keywords\" content=\"humor,obvious,simile\" /    > \\n            \\n            <a class=\"tag\" href=\"/tag/humor/page/1/\">humor</a>\\n            \\n            <a class=\"tag\" href=\"/tag/obvious/page/1/\">obvious</a>\\n            \\n            <a class=\"tag\" href=\"/tag/simile/page/1/\">simile</a>\\n            \\n        </div>\\n    </div>\\n\\n    <nav>\\n        <ul class=\"pager\">\\n            \\n            \\n            <li class=\"next\">\\n                <a href=\"/page/2/\">Next <span aria-hidden=\"true\">&rarr;</span></a>\\n            </li>\\n            \\n        </ul>\\n    </nav>\\n    </div>\\n    <div class=\"col-md-4 tags-box\">\\n        \\n            <h2>Top Ten tags</h2>\\n            \\n            <span class=\"tag-item\">\\n            <a class=\"tag\" style=\"font-size: 28px\" href=\"/tag/love/\">love</a>\\n            </span>\\n            \\n            <span class=\"tag-item\">\\n            <a class=\"tag\" style=\"font-size: 26px\" href=\"/tag/inspirational/\">inspirational</a>\\n            </span>\\n            \\n            <span class=\"tag-item\">\\n            <a class=\"tag\" style=\"font-size: 26px\" href=\"/tag/life/\">life</a>\\n            </span>\\n            \\n            <span class=\"tag-item\">\\n            <a class=\"tag\" style=\"font-size: 24px\" href=\"/tag/humor/\">humor</a>\\n            </span>\\n            \\n            <span class=\"tag-item\">\\n            <a class=\"tag\" style=\"font-size: 22px\" href=\"/tag/books/\">books</a>\\n            </span>\\n            \\n            <span class=\"tag-item\">\\n            <a class=\"tag\" style=\"font-size: 14px\" href=\"/tag/reading/\">reading</a>\\n            </span>\\n            \\n            <span class=\"tag-item\">\\n            <a class=\"tag\" style=\"font-size: 10px\" href=\"/tag/friendship/\">friendship</a>\\n            </span>\\n            \\n            <span class=\"tag-item\">\\n            <a class=\"tag\" style=\"font-size: 8px\" href=\"/tag/friends/\">friends</a>\\n            </span>\\n            \\n            <span class=\"tag-item\">\\n            <a class=\"tag\" style=\"font-size: 8px\" href=\"/tag/truth/\">truth</a>\\n            </span>\\n            \\n            <span class=\"tag-item\">\\n            <a class=\"tag\" style=\"font-size: 6px\" href=\"/tag/simile/\">simile</a>\\n            </span>\\n            \\n        \\n    </div>\\n</div>\\n\\n    </div>\\n    <footer class=\"footer\">\\n        <div class=\"container\">\\n            <p class=\"text-muted\">\\n                Quotes by: <a href=\"https://www.goodreads.com/quotes\">GoodReads.com</a>\\n            </p>\\n            <p class=\"copyright\">\\n                Made with <span class=\\'zyte\\'>❤</span> by <a class=\\'zyte\\' href=\"https://www.zyte.com\">Zyte</a>\\n            </p>\\n        </div>\\n    </footer>\\n</body>\\n</html>'"
     },
     "execution_count": 16,
     "metadata": {},
     "output_type": "execute_result"
    }
   ],
   "source": [
    "from bs4 import BeautifulSoup\n",
    "import requests\n",
    "from typing import List, Tuple\n",
    "soup=[{'record_id': 1254, 'url': 'http://bookmarket4.php.xdomain.jp/umbrella/item15.html', 'title': 'さらさ 詰め替え専門ショップ', 'timestamp': '2023-11-28T12:48:56Z', 'text': [('さらさ 詰め替え専門ショップ', 'html'), ('さらさ 詰め替え専門ショップ', 'html'), ('さらさ 詰め替えは只今人気沸騰中、ビックリされるのがこのアイテム数の多さです', 'html'), ('P&G さらさ 柔軟剤 つめかえ用 超特大サイズ 1250ml（4902430645508）', 'html'), ('商品名：さらさ柔軟剤 詰替え超特大サイズ内容量：1250mlJANコード：4902430645508発売元、製造元、輸入元又は販売元：P＆Gジャパン株式会社原産国：日本商品番号：101-36976ブランド：サラサ植物由来成分で、心地いい洗い上がり。', 'html'), ('肌への優しさと高い製品性能の両立。', 'html'), ('蛍光剤、漂白剤、着色料無添加でも自然由来成分で高い洗浄力、消臭力を実現さらさ柔軟剤 ●家族みんなに使えるやさしい柔軟剤 ●着色料無添加 ●大切な肌を優しく包み込む植物由来の厳選成分配合* *柔軟成分の一部が植物由来 ●ピュアソープの香り 【使用方法】 ・全自動洗濯機の場合：柔軟仕上げ剤の自動投入口に本品を入れ、洗濯します。', 'html'), ('・二槽式・洗い桶の場合：すすぎの水がきれいになったら本品を入れ、約3分洗濯機をまわすか浸したあと、脱水します。', 'html'), ('・使用量の目安 衣類1kgに6.7ml 【成分】 界面活性剤(エステル型ジアルキルアンモニウム塩)、安定化剤 【注意事項】 ・香りの感じ方には個人差があります。', 'html'), ('使用量の目安を参考に、周囲の方にもご配慮の上、お使い下さい。', 'html'), ('・生分解性の界面活性剤を使用。', 'html'), ('長期保管により固まる事がある為、お早目にご使用ください。', 'html'), ('・これは飲み物ではありません。', 'html'), ('・つめかえた後は、ボトルの表示をよく読んでお使いください。', 'html')\n",
    "       ]}]\n",
    "def _concat_records(tag_records: List[Tuple[str, str]]):\n",
    "    annotate_text_length = 100\n",
    "    # タグで分割されているテキストを連結\n",
    "\n",
    "    concat_records =  ''.join([t[0] for t in tag_records])\n",
    "    return concat_records\n",
    "tag_records = soup[0]['text']\n",
    "\n",
    "def pre_clean(soup):\n",
    "    texts_with_tags = []\n",
    "    for tag in soup.find_all(True):\n",
    "        # 特定のタグを除外する場合\n",
    "        # if tag.name not in ['html', 'body', 'ul']:\n",
    "        text = tag.get_text(separator=\"\\n\", strip=True)\n",
    "        spl_text = text.split(\"\\n\")\n",
    "        spl_text = [i.strip() for i in spl_text if i.strip()]  # 空の文字列を除外\n",
    "        for item in spl_text:\n",
    "            if tag.name == \"script\" or tag.name == \"style\":\n",
    "                continue\n",
    "            texts_with_tags.append((item, tag.name))  # テキストとタグの名前をタプルとして追加\n",
    "    return texts_with_tags\n",
    "\n",
    "res = requests.get('http://quotes.toscrape.com/')\n",
    "\n",
    "# DBにpre_cleaned_text\n",
    "# \n",
    "# # レスポンスの HTML から BeautifulSoup オブジェクトを作る\n",
    "soup = BeautifulSoup(res.text, 'html.parser')\n",
    "# DBにpre_cleaned_textとして保存する\n",
    "pre_clean_soup = pre_clean(soup)\n",
    "concat_pre_clean_soup=_concat_records(pre_clean_soup)\n",
    "# DBにhtml_textとして保存する\n",
    "res.text"
   ],
   "metadata": {
    "collapsed": false,
    "ExecuteTime": {
     "end_time": "2024-05-02T09:53:49.540792Z",
     "start_time": "2024-05-02T09:53:49.025102Z"
    }
   },
   "id": "8b69e410289cf76f"
  },
  {
   "cell_type": "code",
   "execution_count": 14,
   "outputs": [
    {
     "data": {
      "text/plain": "<Response [200]>"
     },
     "execution_count": 14,
     "metadata": {},
     "output_type": "execute_result"
    }
   ],
   "source": [
    "html_text = ''\n",
    "for html in pre_clean_soup:\n",
    "    html_text +=  f'{html[0]}'\n",
    "res"
   ],
   "metadata": {
    "collapsed": false,
    "ExecuteTime": {
     "end_time": "2024-05-02T09:53:35.556841Z",
     "start_time": "2024-05-02T09:53:35.553641Z"
    }
   },
   "id": "8125e5fda72c87b2"
  },
  {
   "cell_type": "code",
   "execution_count": 21,
   "outputs": [
    {
     "data": {
      "text/plain": "'<!DOCTYPE html>\\n<html lang=\"ja\">\\n<head>\\n<title>さらさ 詰め替え専門ショップ</title>\\n<meta charset=\"UTF-8\">\\n<meta name=\"viewport\" content=\"width=device-width, initial-scale=1.0\">\\n<meta http-equiv=\"X-UA-Compatible\" content=\"IE=edge\">\\n<meta name=\"description\" content=\"さらさ 詰め替えは只今人気沸騰中、ビックリされるのがこのアイテム数の多さです\">\\n<meta name=\"keywords\" content=\"さらさ 詰め替え\">\\n<link rel=\"stylesheet\" href=\"https://maxcdn.bootstrapcdn.com/font-awesome/4.7.0/css/font-awesome.min.css\">\\n<link rel=\"stylesheet\" href=\"./main.css\">\\n<link rel=\"shortcut icon\" type=\"image/x-icon\" href=\"./favicon.ico\">\\n<link rel=\"alternate\" type=\"application/rss+xml\" title=\"さらさ 詰め替え専門ショップ\" href=\"http://bookmarket4.php.xdomain.jp/umbrella/sitemap.xml\">\\n<script src=\"https://ajax.googleapis.com/ajax/libs/jquery/3.2.1/jquery.min.js\"></script>\\n<script src=\"./main.js\" charset=\"utf-8\"></script>\\n</head>\\n<body>\\n<script type=\"text/javascript\" src=\"https://ad.xdomain.ne.jp/js/server-php.js\"></script>\\n<div id=\"item_page\" class=\"wrapper\">\\n\\t<article id=\"contents\">\\n\\t\\t<header id=\"banner\" class=\"container\">\\n\\t\\t\\t<h1 id=\"title_1\"><a href=\"./\">さらさ 詰め替え専門ショップ</a></h1>\\n\\t\\t\\t<h3 id=\"title_2\"><a href=\"./\">さらさ 詰め替えは只今人気沸騰中、ビックリされるのがこのアイテム数の多さです</a></h3>\\n\\t\\t</header>\\n\\t\\t<main>\\n\\t\\t\\t<section class=\"innner\">\\n\\t\\t\\t\\t<h2><i style=\"color:#33B53E;\" class=\"fa fa-tags\" aria-hidden=\"true\"></i> P&G さらさ 柔軟剤 つめかえ用 超特大サイズ 1250ml（4902430645508）</h2>\\n\\t\\t\\t\\t<section id=\"item_images\">\\n\\t\\t\\t\\t\\t<a class=\"image featured\" href=\"https://hb.afl.rakuten.co.jp/hgc/g00ru0o2.b5x0ra50.g00ru0o2.b5x0se82/?pc=http%3A%2F%2Fitem.rakuten.co.jp%2Fat-life%2F4902430645508%2F&m=http%3A%2F%2Fm.rakuten.co.jp%2Fat-life%2Fi%2F11980937%2F\" target=\"_blank\"><img src=\"https://thumbnail.image.rakuten.co.jp/@0_mall/at-life/cabinet/2020c/4902430645508.jpg?_ex=365x365\"\" alt=\"P&G さらさ 柔軟剤 つめかえ用 超特大サイズ 1250ml（4902430645508）\" class=\"object-fit-img shadow fade\"></a>\\n\\t\\t\\t\\t\\t<a class=\"image featured\" href=\"https://hb.afl.rakuten.co.jp/hgc/g00ru0o2.b5x0ra50.g00ru0o2.b5x0se82/?pc=http%3A%2F%2Fitem.rakuten.co.jp%2Fat-life%2F4902430645508%2F&m=http%3A%2F%2Fm.rakuten.co.jp%2Fat-life%2Fi%2F11980937%2F\" target=\"_blank\"><img src=\"https://thumbnail.image.rakuten.co.jp/@0_mall/at-life/cabinet/package_henko.jpg?_ex=365x365\"\" alt=\"P&G さらさ 柔軟剤 つめかえ用 超特大サイズ 1250ml（4902430645508）\" class=\"object-fit-img shadow fade\"></a>\\n\\t\\t\\t\\t\\t<a class=\"image featured\" href=\"https://hb.afl.rakuten.co.jp/hgc/g00ru0o2.b5x0ra50.g00ru0o2.b5x0se82/?pc=http%3A%2F%2Fitem.rakuten.co.jp%2Fat-life%2F4902430645508%2F&m=http%3A%2F%2Fm.rakuten.co.jp%2Fat-life%2Fi%2F11980937%2F\" target=\"_blank\"><img src=\"https://thumbnail.image.rakuten.co.jp/@0_mall/at-life/cabinet/2020c/4902430645508.jpg?_ex=365x365\"\" alt=\"P&G さらさ 柔軟剤 つめかえ用 超特大サイズ 1250ml（4902430645508）\" class=\"object-fit-img shadow fade\"></a>\\n\\t\\t\\t\\t</section>\\n\\t\\t\\t\\t<section id=\"item_info\">\\n\\t\\t\\t\\t\\t<section id=\"itemCaption\" class=\"box\">\\n\\t\\t\\t\\t\\t\\t<p>商品名：さらさ柔軟剤 詰替え超特大サイズ内容量：1250mlJANコード：4902430645508発売元、製造元、輸入元又は販売元：P＆Gジャパン株式会社原産国：日本商品番号：101-36976ブランド：サラサ植物由来成分で、心地いい洗い上がり。</p>\\n<p>肌への優しさと高い製品性能の両立。</p>\\n<p>蛍光剤、漂白剤、着色料無添加でも自然由来成分で高い洗浄力、消臭力を実現さらさ柔軟剤 ●家族みんなに使えるやさしい柔軟剤 ●着色料無添加 ●大切な肌を優しく包み込む植物由来の厳選成分配合* *柔軟成分の一部が植物由来 ●ピュアソープの香り 【使用方法】 ・全自動洗濯機の場合：柔軟仕上げ剤の自動投入口に本品を入れ、洗濯します。</p>\\n<p> ・二槽式・洗い桶の場合：すすぎの水がきれいになったら本品を入れ、約3分洗濯機をまわすか浸したあと、脱水します。</p>\\n<p> ・使用量の目安 衣類1kgに6.7ml 【成分】 界面活性剤(エステル型ジアルキルアンモニウム塩)、安定化剤 【注意事項】 ・香りの感じ方には個人差があります。</p>\\n<p>使用量の目安を参考に、周囲の方にもご配慮の上、お使い下さい。</p>\\n<p> ・生分解性の界面活性剤を使用。</p>\\n<p>長期保管により固まる事がある為、お早目にご使用ください。</p>\\n<p> ・これは飲み物ではありません。</p>\\n<p> ・つめかえた後は、ボトルの表示をよく読んでお使いください。</p>\\n<p> ・子供の手の届くところに置かない。</p>\\n<p> ・認知症の方などの誤飲を防ぐため、置き場所に注意する。</p>\\n<p> ・用途外に使用しない。</p>\\n<p> ・洗剤、漂白剤などとは混ぜない。</p>\\n<p> ・高温や低温、および直射日光などをさけて保管する。</p>\\n<p> ・原液が洗濯機のステンレス部分、床などについたときは水ですぐふきとる。</p>\\n<p> ・原液が直接衣類にかからないようにする。</p>\\n<p> ・小さくして捨てやすい、やわらかい素材を使用しています。</p>\\n<p>開封前の破損や液漏れに注意してお取り扱いください。</p>\\n<p> 応急処置 ・目に入ったときには十分に洗い流す。</p>\\n<p> ・飲み込んだときは吐かずにすぐ口をすすぎ、水を飲むなどの処置をする。</p>\\n<p> ・異常が残る場合は医師に相談する。</p>\\n<p> 広告文責：アットライフ株式会社TEL 050-3196-1510 ※商品パッケージは変更の場合あり。</p>\\n<p>メーカー欠品または完売の際、キャンセルをお願いすることがあります。</p>\\n<p>ご了承ください。</p>\\n<p></p>\\n\\t\\t\\t\\t\\t</section>\\n\\t\\t\\t\\t\\t<section id=\"itemPrice\" class=\"box\">\\n\\t\\t\\t\\t\\t\\t<ul>\\n\\t\\t\\t\\t\\t\\t\\t<li>商品価格：858円</li></li>\\n\\t\\t\\t\\t\\t\\t\\t<li>レビュー件数：4件</li>\\n\\t\\t\\t\\t\\t\\t\\t<li>レビュー平均：<span id=\"reviewAverage\">4.5</span></li>\\n\\t\\t\\t\\t\\t\\t</ul>\\n\\t\\t\\t\\t\\t\\t<div class=\"buy-button\"><a class=\"al-c shadow fade\" href=\"https://hb.afl.rakuten.co.jp/hgc/g00ru0o2.b5x0ra50.g00ru0o2.b5x0se82/?pc=http%3A%2F%2Fitem.rakuten.co.jp%2Fat-life%2F4902430645508%2F&m=http%3A%2F%2Fm.rakuten.co.jp%2Fat-life%2Fi%2F11980937%2F\" target=\"_blank\"><i class=\"fa fa-shopping-cart\" aria-hidden=\"true\"></i> 楽天で購入</a></div>\\n\\t\\t\\t\\t\\t</section>\\n\\t\\t\\t\\t</section>\\n\\t\\t\\t</section>\\n\\n\\t\\t\\t<section id=\"tweet\" class=\"innner\">\\n\\t\\t\\t\\t\\n\\t\\t\\t</section>\\n\\n\\t\\t\\t<section class=\"innner\">\\n\\t\\t\\t\\t<article id=\"kakolink\">\\n\\t<header>\\n\\t\\t<h2>\\n\\t\\t\\t<i class=\"fa fa-bookmark\" aria-hidden=\"true\" style=\"color:#ec9800;\"></i>\\n\\t\\t\\t<strong>さらさ 詰め替え</strong> おすすめサイト\\n\\t\\t</h2>\\n\\t</header>\\n\\t<article class=\"kakolink_item\">\\n\\t\\t<ul>\\n<!-- START_LINK -->\\n\\t\\t\\t<li><a href=\"https://www.gorrasneweraespana.net/without/\" target=\"_blank\">ぼくらのふるさと納税 うなぎ 四万十戦争</a></li>\\n\\n\\n\\t\\t\\t<li><a href=\"https://www.tulkrm.com/fall/\" target=\"_blank\">イヤホン 有線の最安値情報探しに挑戦</a></li>\\n\\n\\n\\t\\t\\t<li><a href=\"https://www.gorrasneweraespana.net/instruction/\" target=\"_blank\">ネックレス 収納 メディケーション 健康から未来を考える</a></li>\\n\\n<!-- END_LINK -->\\n\\t\\t</ul>\\n\\t</article>\\n</article>\\n\\t\\t\\t</section>\\n\\n\\t\\t\\t\\n\\n\\t\\t\\t<section id=\"page-navi\" class=\"al-c\">\\n\\t\\t\\t\\t<script>\\n\\t\\t\\t\\t\\tvar n = parseInt(\"item14.html\".slice( 4, -5 ) , 10) ;\\n\\t\\t\\t\\t\\tif (n >= 1){\\n\\t\\t\\t\\t\\t\\tdocument.write( \\'<a href=\"item14.html\"><i class=\"fa fa-arrow-left\" aria-hidden=\"true\"></i> 前</a>\\');\\n\\t\\t\\t\\t\\t} else {\\n\\t\\t\\t\\t\\t\\tdocument.write( \\'<span class=\"gray\"><i class=\"fa fa-arrow-left\" aria-hidden=\"true\"></i> 前</span>\\');\\n\\t\\t\\t\\t\\t}\\n\\t\\t\\t\\t</script>\\n\\t\\t\\t\\t<a href=\"./\">\\u3000<i class=\"fa fa-home\"></i>\\u3000</a>\\n\\t\\t\\t\\t<script>\\n\\t\\t\\t\\t\\tvar n = parseInt(\"item16.html\".slice( 4, -5 ) , 10) ;\\n\\t\\t\\t\\t\\tif (n <= 30){\\n\\t\\t\\t\\t\\t\\tdocument.write( \\'<a href=\"item16.html\">次 <i class=\"fa fa-arrow-right\" aria-hidden=\"true\"></i></a>\\');\\n\\t\\t\\t\\t\\t} else {\\n\\t\\t\\t\\t\\t\\tdocument.write( \\'<span class=\"gray\">次 <i class=\"fa fa-arrow-right\" aria-hidden=\"true\"></i></span>\\');\\n\\t\\t\\t\\t\\t}\\n\\t\\t\\t\\t</script>\\n\\t\\t\\t</section>\\n\\t\\t</mein>\\n\\t\\t<footer>\\n\\t\\t\\t<article id=\"copyright\">\\n\\t\\t\\t\\t&copy; <a href=\"./\" class=\"white\">さらさ 詰め替え専門ショップ</a>\\n\\t\\t\\t</article>\\n\\t\\t</footer>\\n\\t</article>\\n</div>\\n<div>\\n<a href=\"http://bookmarket4.php.xdomain.jp/\">TOPへ</a><br />\\n<!--shinobi1--><script type=\"text/javascript\" src=\"//xa.shinobi.jp/ufo/190428600\"></script><noscript><a href=\"//xa.shinobi.jp/bin/gg?190428600\" target=\"_blank\"><img src=\"//xa.shinobi.jp/bin/ll?190428600\" border=\"0\"></a><br><span style=\"font-size:9px\"><img style=\"margin:0;vertical-align:text-bottom;\" src=\"//img.shinobi.jp/tadaima/fj.gif\" width=\"19\" height=\"11\"> </span></noscript><!--shinobi2-->\\n</div>\\n\\n</body>\\n</html>\\n'"
     },
     "execution_count": 21,
     "metadata": {},
     "output_type": "execute_result"
    }
   ],
   "source": [
    "res = requests.get('http://bookmarket4.php.xdomain.jp/umbrella/item15.html',\n",
    "                   )\n",
    "# 文字化け対応\n",
    "res.encoding = res.apparent_encoding\n",
    "# DBにpre_cleaned_text\n",
    "# \n",
    "# # レスポンスの HTML から BeautifulSoup オブジェクトを作る\n",
    "soup = BeautifulSoup(res.text, 'html.parser')\n",
    "# DBにpre_cleaned_textとして保存する\n",
    "pre_clean_soup = pre_clean(soup)\n",
    "concat_pre_clean_soup=_concat_records(pre_clean_soup)\n",
    "# DBにhtml_textとして保存する\n",
    "res.text"
   ],
   "metadata": {
    "collapsed": false,
    "ExecuteTime": {
     "end_time": "2024-05-02T11:59:42.437004Z",
     "start_time": "2024-05-02T11:59:42.355171Z"
    }
   },
   "id": "96297cf3c186ab8"
  },
  {
   "cell_type": "code",
   "execution_count": null,
   "outputs": [],
   "source": [],
   "metadata": {
    "collapsed": false
   },
   "id": "c7c1b36f7a819e2c"
  }
 ],
 "metadata": {
  "kernelspec": {
   "display_name": "Python 3",
   "language": "python",
   "name": "python3"
  },
  "language_info": {
   "codemirror_mode": {
    "name": "ipython",
    "version": 2
   },
   "file_extension": ".py",
   "mimetype": "text/x-python",
   "name": "python",
   "nbconvert_exporter": "python",
   "pygments_lexer": "ipython2",
   "version": "2.7.6"
  }
 },
 "nbformat": 4,
 "nbformat_minor": 5
}
