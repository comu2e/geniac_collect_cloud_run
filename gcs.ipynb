{
 "cells": [
  {
   "cell_type": "code",
   "execution_count": null,
   "id": "initial_id",
   "metadata": {
    "collapsed": true
   },
   "outputs": [],
   "source": []
  },
  {
   "cell_type": "code",
   "execution_count": 1,
   "outputs": [
    {
     "name": "stderr",
     "output_type": "stream",
     "text": [
      "IOPub data rate exceeded.\n",
      "The Jupyter server will temporarily stop sending output\n",
      "to the client in order to avoid crashing it.\n",
      "To change this limit, set the config variable\n",
      "`--ServerApp.iopub_data_rate_limit`.\n",
      "\n",
      "Current values:\n",
      "ServerApp.iopub_data_rate_limit=1000000.0 (bytes/sec)\n",
      "ServerApp.rate_limit_window=3.0 (secs)\n",
      "\n"
     ]
    }
   ],
   "source": [
    "import glob\n",
    "\n",
    "\n",
    "def get_cc_path_list(path_dir=\"data/rest_path_list/*\"):\n",
    "    path_list = []\n",
    "    for file_path in glob.glob(path_dir):\n",
    "        print(file_path)\n",
    "        with open(file_path, \"r\") as f:\n",
    "            temp_path_list = f.readlines()\n",
    "\n",
    "        temp_path_list = [path.strip() for path in temp_path_list]\n",
    "\n",
    "        path_list += temp_path_list\n",
    "\n",
    "    return path_list\n",
    "cc_path_list = get_cc_path_list()\n",
    "\n",
    "# CloudRunの環境変数から取得\n",
    "batch_id = 259\n",
    "job_idx = 0\n",
    "batch_range = 1\n",
    "# batch数\n",
    "\n",
    "N_TASK =1\n",
    "n_batch= 3\n",
    "\n",
    "ONE_BATCH_SIZE = N_TASK * job_idx\n",
    "print(f\"ONE_BATCH_SIZE:{ONE_BATCH_SIZE}\"\n",
    "      f\"n_batch:{n_batch},job_idx:{job_idx},batch_range:{batch_range}\"\n",
    "      )\n",
    "\n",
    "print(f\"cc_path_list:{cc_path_list}\")\n",
    "print(f\"cc_path_listの長さ:{len(cc_path_list)}\")\n",
    "\n",
    "\n",
    "target_path_list = cc_path_list[\n",
    "    ONE_BATCH_SIZE * (batch_id - 1):ONE_BATCH_SIZE * batch_id\n",
    "]\n",
    "print(f\"target_path_listの長さ:{len(target_path_list)}\")\n",
    "\n",
    "target_path_list = target_path_list[job_idx:job_idx + n_batch]\n",
    "\n",
    "print(f\"target_path_listの長さ:{len(target_path_list)}\")\n",
    "print(f\"batch_id:{batch_id},job_idx:{job_idx},target_path_list:{target_path_list}\")"
   ],
   "metadata": {
    "collapsed": false,
    "ExecuteTime": {
     "end_time": "2024-05-10T18:20:34.829367Z",
     "start_time": "2024-05-10T18:20:34.713422Z"
    }
   },
   "id": "d5413c10fb769051"
  },
  {
   "cell_type": "code",
   "execution_count": 18,
   "outputs": [
    {
     "name": "stdout",
     "output_type": "stream",
     "text": [
      "data/rest_path_list/rest_path.csv\n",
      "ONE_BATCH_SIZE:1n_batch:3,job_idx:1,batch_range:1\n",
      "cc_path_listの長さ:80165\n",
      "target_path_listの長さ:2\n",
      "start_idx:258,end_idx:260\n",
      "target_path_listの長さ:2\n",
      "batch_id:259,job_idx:1\n"
     ]
    }
   ],
   "source": [
    "import glob\n",
    "\n",
    "\n",
    "def get_cc_path_list(path_dir=\"data/rest_path_list/*\"):\n",
    "    path_list = []\n",
    "    for file_path in glob.glob(path_dir):\n",
    "        print(file_path)\n",
    "        with open(file_path, \"r\") as f:\n",
    "            temp_path_list = f.readlines()\n",
    "\n",
    "        temp_path_list = [path.strip() for path in temp_path_list]\n",
    "\n",
    "        path_list += temp_path_list\n",
    "\n",
    "    return path_list\n",
    "cc_path_list = get_cc_path_list()\n",
    "\n",
    "# CloudRunの環境変数から取得\n",
    "batch_id = 259\n",
    "job_idx = 0\n",
    "job_idx += 1\n",
    "batch_range = 1\n",
    "# batch数\n",
    "\n",
    "N_TASK =1\n",
    "n_batch= 3\n",
    "\n",
    "ONE_BATCH_SIZE = N_TASK * job_idx\n",
    "print(f\"ONE_BATCH_SIZE:{ONE_BATCH_SIZE}\"\n",
    "      f\"n_batch:{n_batch},job_idx:{job_idx},batch_range:{batch_range}\"\n",
    "      )\n",
    "\n",
    "print(f\"cc_path_listの長さ:{len(cc_path_list)}\")\n",
    "\n",
    "start_idx = ONE_BATCH_SIZE * (batch_id - 1)\n",
    "end_idx = ONE_BATCH_SIZE * (batch_id+1)\n",
    "target_path_list = cc_path_list[\n",
    "    start_idx:end_idx\n",
    "]\n",
    "print(f\"target_path_listの長さ:{len(target_path_list)}\")\n",
    "print(f\"start_idx:{start_idx},end_idx:{end_idx}\")\n",
    "\n",
    "print(f\"target_path_listの長さ:{len(target_path_list)}\")\n",
    "print(f\"batch_id:{batch_id},job_idx:{job_idx}\")"
   ],
   "metadata": {
    "collapsed": false,
    "ExecuteTime": {
     "end_time": "2024-05-10T18:27:18.733432Z",
     "start_time": "2024-05-10T18:27:18.693449Z"
    }
   },
   "id": "bae984fb0ed502ee"
  },
  {
   "cell_type": "code",
   "execution_count": null,
   "outputs": [],
   "source": [],
   "metadata": {
    "collapsed": false
   },
   "id": "3a7b0486ddc91370"
  }
 ],
 "metadata": {
  "kernelspec": {
   "display_name": "Python 3",
   "language": "python",
   "name": "python3"
  },
  "language_info": {
   "codemirror_mode": {
    "name": "ipython",
    "version": 2
   },
   "file_extension": ".py",
   "mimetype": "text/x-python",
   "name": "python",
   "nbconvert_exporter": "python",
   "pygments_lexer": "ipython2",
   "version": "2.7.6"
  }
 },
 "nbformat": 4,
 "nbformat_minor": 5
}
