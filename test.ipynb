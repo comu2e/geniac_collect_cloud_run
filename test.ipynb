{
 "cells": [
  {
   "cell_type": "code",
   "execution_count": 3,
   "id": "initial_id",
   "metadata": {
    "collapsed": true,
    "ExecuteTime": {
     "end_time": "2024-05-12T12:40:00.489270Z",
     "start_time": "2024-05-12T12:40:00.466835Z"
    }
   },
   "outputs": [
    {
     "name": "stdout",
     "output_type": "stream",
     "text": [
      "data/path_list/CC-MAIN-2023-50\n",
      "['crawl-data/CC-MAIN-2023-50/segments/1700679099281.67/warc/CC-MAIN-20231128083443-20231128113443-00001.warc.gz']\n"
     ]
    }
   ],
   "source": [
    "from main import get_cc_path_list\n",
    "\n",
    "batch_number = 1\n",
    "cc_path_list = get_cc_path_list()\n",
    "start_index = batch_number \n",
    "end_index = batch_number + 1\n",
    "task_list = cc_path_list[start_index:end_index]\n",
    "\n",
    "print(task_list)"
   ]
  },
  {
   "cell_type": "code",
   "execution_count": null,
   "outputs": [],
   "source": [],
   "metadata": {
    "collapsed": false
   },
   "id": "587e665e9a031efd"
  }
 ],
 "metadata": {
  "kernelspec": {
   "display_name": "Python 3",
   "language": "python",
   "name": "python3"
  },
  "language_info": {
   "codemirror_mode": {
    "name": "ipython",
    "version": 2
   },
   "file_extension": ".py",
   "mimetype": "text/x-python",
   "name": "python",
   "nbconvert_exporter": "python",
   "pygments_lexer": "ipython2",
   "version": "2.7.6"
  }
 },
 "nbformat": 4,
 "nbformat_minor": 5
}
